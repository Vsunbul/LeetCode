{
 "cells": [
  {
   "cell_type": "markdown",
   "id": "4467677d-abc4-4fe5-a0c4-e2bd35ec981a",
   "metadata": {},
   "source": [
    "## 1768. Merge Strings Alternately"
   ]
  },
  {
   "cell_type": "markdown",
   "id": "17b7b8b5-eafe-4ec4-8510-f0b2ad146d54",
   "metadata": {},
   "source": [
    "You are given two strings word1 and word2. Merge the strings by adding letters in alternating order, starting with word1. If a string is longer than the other, append the additional letters onto the end of the merged string.\r\n",
    "\r\n",
    "Return the merged string.\r\n",
    "\r\n",
    " \r\n",
    "\r\n",
    "Example 1:\r\n",
    "\r\n",
    "Input: word1 = \"abc\", word2 = \"pqr\"\r\n",
    "Output: \"apbqcr\"\r\n",
    "Explanation: The merged string will be merged as so:\r\n",
    "word1:  a   b   c\r\n",
    "word2:    p   q   r\r\n",
    "merged: a p b q c r\r\n",
    "Example 2:\r\n",
    "\r\n",
    "Input: word1 = \"ab\", word2 = \"pqrs\"\r\n",
    "Output: \"apbqrs\"\r\n",
    "Explanation: Notice that as word2 is longer, \"rs\" is appended to the end.\r\n",
    "word1:  a   b \r\n",
    "word2:    p   q   r   s\r\n",
    "merged: a p b q   r   s\r\n",
    "Example 3:\r\n",
    "\r\n",
    "Input: word1 = \"abcd\", word2 = \"pq\"\r\n",
    "Output: \"apbqcd\"\r\n",
    "Explanation: Notice that as word1 is longer, \"cd\" is appended to the end.\r\n",
    "word1:  a   b   c   d\r\n",
    "word2:    p   q \r\n",
    "merged: a p b q c   d\r\n",
    " \r\n",
    "\r\n",
    "Constraints:\r\n",
    "\r\n",
    "1 <= word1.length, word2.length <= 100\r\n",
    "word1 and word2 consist of lowercase English letters."
   ]
  },
  {
   "cell_type": "markdown",
   "id": "026b28f5-2d9a-4978-88ec-fea6fd5d86c1",
   "metadata": {},
   "source": [
    "## Solution"
   ]
  },
  {
   "cell_type": "code",
   "execution_count": null,
   "id": "3ff020b2-aaad-4ece-a172-254b91b043bb",
   "metadata": {},
   "outputs": [],
   "source": []
  },
  {
   "cell_type": "code",
   "execution_count": 2,
   "id": "27720cf6-1fe2-4781-a9b4-14c2c9dfbfdf",
   "metadata": {},
   "outputs": [
    {
     "name": "stdout",
     "output_type": "stream",
     "text": [
      "apbqcr\n"
     ]
    }
   ],
   "source": [
    "class Solution:\n",
    "\n",
    "    def circle(self, word2, word1):\n",
    "        merged = \"\"\n",
    "        if 1 <= len(self.word2) and len(self.word1) <= 100:\n",
    "            for i in range(len(self.word2)):\n",
    "                    merged += self.word1[i] + self.word2[i]\n",
    "            merged = merged.replace(\" \", \"\")\n",
    "        \n",
    "            return merged\n",
    "        else:\n",
    "            print(\"please word lenght must be lower to 100! \")\n",
    "\n",
    "\n",
    "        \n",
    "\n",
    "    def mergeAlternately(self, word1: str, word2: str) -> str:\n",
    "        \n",
    "        self.word1 = word1.lower()\n",
    "        self.word2 = word2.lower()\n",
    "\n",
    "\n",
    "        if len(self.word1) == len(word2):\n",
    "            self.circle(word2, word1)\n",
    "\n",
    "        elif len(self.word1) < len(self.word2):\n",
    "            self.word1 = self.word1 + (len(self.word2) - len(self.word1)) * \" \"\n",
    "            self.circle(word2, word1)\n",
    "\n",
    "        else:\n",
    "            self.word2 = self.word2 + (len(self.word1) - len(self.word2)) * \" \"\n",
    "            self.circle(word2, word1)\n",
    "        return self.circle(self.word1, self.word2)\n",
    "solution = Solution()\n",
    "\n",
    "print(solution.mergeAlternately(\"abc\", \"pqr\"))"
   ]
  },
  {
   "cell_type": "code",
   "execution_count": null,
   "id": "651faaaf-a0cb-4ad5-8f88-a306569f73bd",
   "metadata": {},
   "outputs": [],
   "source": []
  }
 ],
 "metadata": {
  "kernelspec": {
   "display_name": "Python 3 (ipykernel)",
   "language": "python",
   "name": "python3"
  },
  "language_info": {
   "codemirror_mode": {
    "name": "ipython",
    "version": 3
   },
   "file_extension": ".py",
   "mimetype": "text/x-python",
   "name": "python",
   "nbconvert_exporter": "python",
   "pygments_lexer": "ipython3",
   "version": "3.12.4"
  }
 },
 "nbformat": 4,
 "nbformat_minor": 5
}
